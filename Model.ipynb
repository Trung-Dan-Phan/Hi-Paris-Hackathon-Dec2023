{
  "cells": [
    {
      "cell_type": "markdown",
      "metadata": {
        "id": "Gj2MrRmZIRzr"
      },
      "source": [
        "The present code is developed during a contest called « HI!CKATHON » organized at the request of HEC Paris and Institut Polytechnique de Paris, in the context of the Hi ! PARIS Center"
      ]
    },
    {
      "cell_type": "code",
      "execution_count": null,
      "metadata": {
        "id": "LJiFG5UZIRzv",
        "outputId": "5552a95f-eff0-432c-a6c0-7792e51a549a"
      },
      "outputs": [
        {
          "name": "stdout",
          "output_type": "stream",
          "text": [
            "Requirement already satisfied: xgboost in /Users/jeremypnt/anaconda3/lib/python3.11/site-packages (2.0.2)\n",
            "Requirement already satisfied: numpy in /Users/jeremypnt/anaconda3/lib/python3.11/site-packages (from xgboost) (1.23.5)\n",
            "Requirement already satisfied: scipy in /Users/jeremypnt/anaconda3/lib/python3.11/site-packages (from xgboost) (1.11.3)\n",
            "Note: you may need to restart the kernel to use updated packages.\n"
          ]
        }
      ],
      "source": [
        "#%pip install xgboost"
      ]
    },
    {
      "cell_type": "code",
      "execution_count": null,
      "metadata": {
        "id": "8RMf3srkIRzz"
      },
      "outputs": [],
      "source": [
        "import pandas as pd\n",
        "import numpy as np\n",
        "import matplotlib as plt\n",
        "\n",
        "import time\n",
        "import xgboost as xgb\n",
        "\n",
        "from sklearn.metrics import mean_squared_error, r2_score\n",
        "from sklearn.model_selection import GridSearchCV\n",
        "from sklearn.linear_model import LinearRegression\n",
        "from sklearn.linear_model import Ridge, Lasso\n",
        "from sklearn.ensemble import RandomForestRegressor, GradientBoostingRegressor\n",
        "from sklearn.svm import SVR\n",
        "from sklearn.neural_network import MLPRegressor\n",
        "from xgboost import XGBClassifier"
      ]
    },
    {
      "cell_type": "code",
      "execution_count": null,
      "metadata": {
        "id": "OQ_kI0wyIRz0"
      },
      "outputs": [],
      "source": [
        "#X_train = pd.read_csv('datasets_hi4/Data_propre/X_train.csv', sep=';', header=0, index_col='index')\n",
        "#y_train = pd.read_csv('datasets_hi4/Data_propre/y_train.csv', sep=';', header=0, index_col='index')\n",
        "\n",
        "X_train = pd.read_csv('preprocessed_datasets/X_train.csv', sep=';', header=0, index_col='index')\n",
        "y_train = pd.read_csv('preprocessed_datasets/y_train.csv', sep=';', header=0, index_col='index')"
      ]
    },
    {
      "cell_type": "code",
      "execution_count": null,
      "metadata": {
        "id": "sNXaYdJ-IRz1"
      },
      "outputs": [],
      "source": [
        "list_col = []\n",
        "for col in X_train.columns:\n",
        "    list_col.append(col)"
      ]
    },
    {
      "cell_type": "code",
      "execution_count": null,
      "metadata": {
        "id": "Mt8c_8grIRz1"
      },
      "outputs": [],
      "source": [
        "colonnes_utilisees = ['Month 1', 'Month 2', 'Month 3',\n",
        "\n",
        "# 'Country_depart', 'Country_arrivee',\n",
        "\n",
        " 'LPI Grouped Rank_depart', 'LPI Grouped Rank_arrivee',\n",
        "\n",
        "# 'lat_lon_dep', 'lat_lon_arr',\n",
        "\n",
        " 'distance',\n",
        "\n",
        "#  'Country_AU',\n",
        "#  'Country_BE',\n",
        "#  'Country_BN',\n",
        "#  'Country_CN',\n",
        "#  'Country_DE',\n",
        "#  'Country_DK',\n",
        "#  'Country_ES',\n",
        "#  'Country_FJ',\n",
        "#  'Country_FR',\n",
        "#  'Country_GB',\n",
        "#  'Country_HK',\n",
        "#  'Country_IT',\n",
        "#  'Country_Id',\n",
        "#  'Country_JP',\n",
        "#  'Country_KH',\n",
        "#  'Country_KR',\n",
        "#  'Country_LA',\n",
        "#  'Country_MM',\n",
        "#  'Country_MN',\n",
        "#  'Country_MY',\n",
        "#  'Country_NL',\n",
        "#  'Country_NZ',\n",
        "#  'Country_PG',\n",
        "#  'Country_PH',\n",
        "#  'Country_PL',\n",
        "#  'Country_SE',\n",
        "#  'Country_SG',\n",
        "#  'Country_TH',\n",
        "#  'Country_TW',\n",
        "#  'Country_US',\n",
        "#  'Country_VN',\n",
        "\n",
        "#  'Site_AE_DC_DUD',\n",
        "#  'Site_AU_DC_ALD',\n",
        "#  'Site_AU_DC_Adelaide',\n",
        "#  'Site_AU_DC_Brisbane',\n",
        "#  'Site_AU_DC_Darwin',\n",
        "#  'Site_AU_DC_Launceston',\n",
        "#  'Site_AU_DC_Melbourne',\n",
        "#  'Site_AU_DC_MountLouisa',\n",
        "#  'Site_AU_DC_Perth',\n",
        "#  'Site_AU_DC_Sydney',\n",
        "#  'Site_AU_MF_GEPS_CROSS',\n",
        "#  'Site_BE_FO_BNDch',\n",
        "#  'Site_CN_DC_Beijing',\n",
        "#  'Site_CN_DC_ChengDu',\n",
        "#  'Site_CN_DC_GuangZhou',\n",
        "#  'Site_CN_DC_SHD',\n",
        "#  'Site_CN_DC_Shanghai',\n",
        "#  'Site_CN_DC_Wuhan',\n",
        "#  'Site_CN_DC_Xinjiang',\n",
        "#  'Site_CN_MF_SBMV',\n",
        "#  'Site_CN_MF_SSPA',\n",
        "#  'Site_CN_MF_SWEEC',\n",
        "#  'Site_CN_MF_WPF_Wuxi',\n",
        "#  'Site_DE_FO_BNDch',\n",
        "#  'Site_DK_DC_EOD',\n",
        "#  'Site_DK_DC_Ringsted',\n",
        "#  'Site_ES_DC_Himel',\n",
        "#  'Site_ES_DC_IberiaSantBoi',\n",
        "#  'Site_ES_DC_IberiaSantBoi_AS90',\n",
        "#  'Site_ES_DC_SPL',\n",
        "#  'Site_FR_DC_AUTNewlog',\n",
        "#  'Site_FR_DC_Evreux',\n",
        "#  'Site_FR_DC_FRL',\n",
        "#  'Site_FR_MF_MBD',\n",
        "#  'Site_GB_DC_NOC_Telford',\n",
        "#  'Site_GB_DC_Telford',\n",
        "#  'Site_GB_DC_Telford_Adaptation',\n",
        "#  'Site_GB_DC_UKL',\n",
        "#  'Site_HK_DC_HKL',\n",
        "#  'Site_HK_DC_HongKong',\n",
        "#  'Site_HU_DC_CEELog_Budapest',\n",
        "#  'Site_ID_DC_IDL',\n",
        "#  'Site_ID_DC_SEI_Indonesia',\n",
        "#  'Site_IE_DC_IEL',\n",
        "#  'Site_IT_DC_ITL',\n",
        "#  'Site_IT_DC_Venaria',\n",
        "#  'Site_JP_DC_JAD',\n",
        "#  'Site_JP_DC_Osaka',\n",
        "#  'Site_KR_DC_Paju',\n",
        "#  'Site_MX_MF_MXF',\n",
        "#  'Site_MX_MF_Monterrey3',\n",
        "#  'Site_MX_MF_Monterrey6',\n",
        "#  'Site_MX_MF_Reynosa',\n",
        "#  'Site_MX_MF_Tlaxcala',\n",
        "#  'Site_MY_DC_MYL',\n",
        "#  'Site_NL_DC_HLD',\n",
        "#  'Site_NL_DC_Venray',\n",
        "#  'Site_NL_FO_BNDch',\n",
        "#  'Site_NZ_DC_Auckland',\n",
        "#  'Site_NZ_DC_NZL',\n",
        "#  'Site_OOS_DRP',\n",
        "#  'Site_PH_DC_PDC',\n",
        "#  'Site_PH_DC_PHL',\n",
        "#  'Site_PH_DC_Sephil_Philippines',\n",
        "#  'Site_PH_MF_P1F',\n",
        "#  'Site_PL_FO_Northern',\n",
        "#  'Site_SE_DC_Orebro',\n",
        "#  'Site_SG_DC_ASD',\n",
        "#  'Site_SG_DC_AVF',\n",
        "#  'Site_SG_DC_OVERSEAS_ASIA',\n",
        "#  'Site_SG_DC_SGL',\n",
        "#  'Site_TH_DC_STL_Thailand',\n",
        "#  'Site_TH_DC_THL',\n",
        "#  'Site_TW_DC_Taiwan',\n",
        "#  'Site_US_DC_Athens',\n",
        "#  'Site_US_DC_Chino',\n",
        "#  'Site_US_DC_Chino_BMS',\n",
        "#  'Site_US_DC_LAD',\n",
        "#  'Site_US_DC_Mechanicsburg',\n",
        "#  'Site_US_DC_Mechanicsburg_BMS',\n",
        "#  'Site_US_DC_PED',\n",
        "#  'Site_US_MF_COF',\n",
        "#  'Site_US_MF_CedarRapids',\n",
        "#  'Site_US_MF_Huntington',\n",
        "#  'Site_US_MF_Lexington',\n",
        "#  'Site_US_MF_Missouri',\n",
        "#  'Site_VN_DC_VNL',\n",
        "#  'Site_VN_DC_Vietnam',\n",
        "\n",
        "'Product  Line_1', 'Product  Line_2', 'Product  Line_3', 'Product  Line_4', 'Product  Line_5', 'Product  Line_6',\n",
        "\n",
        " 'Customer Persona_1',\n",
        " 'Customer Persona_10',\n",
        " 'Customer Persona_11',\n",
        " 'Customer Persona_12',\n",
        " 'Customer Persona_13',\n",
        " 'Customer Persona_14',\n",
        " 'Customer Persona_15',\n",
        " 'Customer Persona_16',\n",
        " 'Customer Persona_17',\n",
        " 'Customer Persona_18',\n",
        " 'Customer Persona_19',\n",
        " 'Customer Persona_2',\n",
        " 'Customer Persona_20',\n",
        " 'Customer Persona_21',\n",
        " 'Customer Persona_22',\n",
        " 'Customer Persona_23',\n",
        " 'Customer Persona_24',\n",
        " 'Customer Persona_25',\n",
        " 'Customer Persona_26',\n",
        " 'Customer Persona_27',\n",
        " 'Customer Persona_28',\n",
        " 'Customer Persona_29',\n",
        " 'Customer Persona_3',\n",
        " 'Customer Persona_30',\n",
        " 'Customer Persona_31',\n",
        " 'Customer Persona_32',\n",
        " 'Customer Persona_33',\n",
        " 'Customer Persona_34',\n",
        " 'Customer Persona_35',\n",
        " 'Customer Persona_36',\n",
        " 'Customer Persona_37',\n",
        " 'Customer Persona_38',\n",
        " 'Customer Persona_39',\n",
        " 'Customer Persona_4',\n",
        " 'Customer Persona_40',\n",
        " 'Customer Persona_41',\n",
        " 'Customer Persona_42',\n",
        " 'Customer Persona_43',\n",
        " 'Customer Persona_44',\n",
        " 'Customer Persona_45',\n",
        " 'Customer Persona_46',\n",
        " 'Customer Persona_47',\n",
        " 'Customer Persona_48',\n",
        " 'Customer Persona_49',\n",
        " 'Customer Persona_5',\n",
        " 'Customer Persona_50',\n",
        " 'Customer Persona_51',\n",
        " 'Customer Persona_52',\n",
        " 'Customer Persona_53',\n",
        " 'Customer Persona_54',\n",
        " 'Customer Persona_55',\n",
        " 'Customer Persona_56',\n",
        " 'Customer Persona_57',\n",
        " 'Customer Persona_58',\n",
        " 'Customer Persona_59',\n",
        " 'Customer Persona_6',\n",
        " 'Customer Persona_60',\n",
        " 'Customer Persona_61',\n",
        " 'Customer Persona_62',\n",
        " 'Customer Persona_63',\n",
        " 'Customer Persona_64',\n",
        " 'Customer Persona_65',\n",
        " 'Customer Persona_66',\n",
        " 'Customer Persona_67',\n",
        " 'Customer Persona_68',\n",
        " 'Customer Persona_69',\n",
        " 'Customer Persona_7',\n",
        " 'Customer Persona_70',\n",
        " 'Customer Persona_71',\n",
        " 'Customer Persona_72',\n",
        " 'Customer Persona_8',\n",
        " 'Customer Persona_9',\n",
        "\n",
        " 'Strategic Product Family_1',\n",
        " 'Strategic Product Family_10',\n",
        " 'Strategic Product Family_11',\n",
        " 'Strategic Product Family_12',\n",
        " 'Strategic Product Family_13',\n",
        " 'Strategic Product Family_14',\n",
        " 'Strategic Product Family_15',\n",
        " 'Strategic Product Family_16',\n",
        " 'Strategic Product Family_17',\n",
        " 'Strategic Product Family_18',\n",
        " 'Strategic Product Family_19',\n",
        " 'Strategic Product Family_2',\n",
        " 'Strategic Product Family_3',\n",
        " 'Strategic Product Family_4',\n",
        " 'Strategic Product Family_5',\n",
        " 'Strategic Product Family_6',\n",
        " 'Strategic Product Family_7',\n",
        " 'Strategic Product Family_8',\n",
        " 'Strategic Product Family_9',\n",
        "\n",
        " 'Product Life cycel status_EOL', 'Product Life cycel status_NPI', 'Product Life cycel status_RaMPDOWN', 'Product Life cycel status_nan',\n",
        "\n",
        " 'First month_jan', 'First month_may', 'First month_sep',\n",
        "\n",
        " 'Year_2020', 'Year_2021', 'Year_2022', 'Year_2023']"
      ]
    },
    {
      "cell_type": "code",
      "execution_count": null,
      "metadata": {
        "id": "F2r7Deu0IRz2"
      },
      "outputs": [],
      "source": [
        "#X_val = pd.read_csv('datasets_hi4/Data_propre/X_val.csv', sep=';', header=0, index_col='index')\n",
        "#y_val = pd.read_csv('datasets_hi4/Data_propre/y_val.csv', sep=';', header=0, index_col='index')\n",
        "\n",
        "X_val = pd.read_csv('preprocessed_datasets/X_val.csv', sep=';', header=0, index_col='index')\n",
        "y_val = pd.read_csv('preprocessed_datasets/y_val.csv', sep=';', header=0, index_col='index')"
      ]
    },
    {
      "cell_type": "code",
      "execution_count": null,
      "metadata": {
        "id": "uTRsOS6NIRz2"
      },
      "outputs": [],
      "source": [
        "X_train_utilise = X_train[colonnes_utilisees]\n",
        "X_val_utilise = X_val[colonnes_utilisees]\n",
        "\n",
        "X_train_utilise_200k = X_train_utilise[:200000]\n",
        "y_train_200k = y_train[:200000]\n",
        "\n",
        "X_train_utilise_50k = X_train_utilise[:50000]\n",
        "y_train_50k = y_train[:50000]"
      ]
    },
    {
      "cell_type": "code",
      "execution_count": null,
      "metadata": {
        "id": "LPLB_YPDIRz3"
      },
      "outputs": [],
      "source": [
        "schneider_scores = pd.DataFrame(columns = ['RMSE_train', 'RMSE_validation', 'R2_train', 'R2_validation', 'Duration'])"
      ]
    },
    {
      "cell_type": "code",
      "execution_count": null,
      "metadata": {
        "id": "K_WtW3oaIRz3"
      },
      "outputs": [],
      "source": [
        "def SchneiderTrain(model, X_train, y_train, X_val, y_val, name = \"A FAIRE\"):\n",
        "    start = time.time()\n",
        "\n",
        "    model.fit(X_train, y_train)\n",
        "\n",
        "    y_train_pred = model.predict(X_train)\n",
        "    y_val_pred = model.predict(X_val)\n",
        "\n",
        "\n",
        "    rmse_train = mean_squared_error(y_train, y_train_pred, squared=False) # squared=False -> RMSE\n",
        "    rmse_val = mean_squared_error(y_val, y_val_pred, squared=False) # squared=False -> RMSE\n",
        "\n",
        "\n",
        "    r2_train = r2_score(y_train, y_train_pred)\n",
        "    r2_val = r2_score(y_val, y_val_pred)\n",
        "\n",
        "\n",
        "    end = time.time()\n",
        "    duration = end - start\n",
        "\n",
        "    return model, rmse_train, rmse_val, r2_train, r2_val, duration"
      ]
    },
    {
      "cell_type": "markdown",
      "metadata": {
        "id": "QtWpIiATIRz3"
      },
      "source": [
        "# LINREG"
      ]
    },
    {
      "cell_type": "code",
      "execution_count": null,
      "metadata": {
        "id": "Cv3lqm_0IRz3",
        "outputId": "961f587b-ee08-47f2-e3bd-17651089a860"
      },
      "outputs": [
        {
          "data": {
            "text/html": [
              "<style type=\"text/css\">\n",
              "#T_efdda_row0_col0, #T_efdda_row0_col1, #T_efdda_row0_col2, #T_efdda_row0_col3, #T_efdda_row0_col4 {\n",
              "  background-color: #006837;\n",
              "  color: #f1f1f1;\n",
              "}\n",
              "</style>\n",
              "<table id=\"T_efdda\">\n",
              "  <thead>\n",
              "    <tr>\n",
              "      <th class=\"blank level0\" >&nbsp;</th>\n",
              "      <th id=\"T_efdda_level0_col0\" class=\"col_heading level0 col0\" >RMSE_train</th>\n",
              "      <th id=\"T_efdda_level0_col1\" class=\"col_heading level0 col1\" >RMSE_validation</th>\n",
              "      <th id=\"T_efdda_level0_col2\" class=\"col_heading level0 col2\" >R2_train</th>\n",
              "      <th id=\"T_efdda_level0_col3\" class=\"col_heading level0 col3\" >R2_validation</th>\n",
              "      <th id=\"T_efdda_level0_col4\" class=\"col_heading level0 col4\" >Duration</th>\n",
              "    </tr>\n",
              "  </thead>\n",
              "  <tbody>\n",
              "    <tr>\n",
              "      <th id=\"T_efdda_level0_row0\" class=\"row_heading level0 row0\" >Linear Regression</th>\n",
              "      <td id=\"T_efdda_row0_col0\" class=\"data row0 col0\" >538.941637</td>\n",
              "      <td id=\"T_efdda_row0_col1\" class=\"data row0 col1\" >552.558818</td>\n",
              "      <td id=\"T_efdda_row0_col2\" class=\"data row0 col2\" >0.374510</td>\n",
              "      <td id=\"T_efdda_row0_col3\" class=\"data row0 col3\" >0.436800</td>\n",
              "      <td id=\"T_efdda_row0_col4\" class=\"data row0 col4\" >5.504204</td>\n",
              "    </tr>\n",
              "  </tbody>\n",
              "</table>\n"
            ],
            "text/plain": [
              "<pandas.io.formats.style.Styler at 0x15957f810>"
            ]
          },
          "execution_count": 10,
          "metadata": {},
          "output_type": "execute_result"
        }
      ],
      "source": [
        "model_linreg, schneider_linreg_train_rmse, schneider_linreg_val_rmse, schneider_linreg_train_r2, schneider_linreg_val_r2, schneider_linreg_duration = SchneiderTrain(LinearRegression(), X_train_utilise, y_train, X_val_utilise, y_val, name = \"Linear Regression\")\n",
        "\n",
        "schneider_scores.loc['Linear Regression'] = [schneider_linreg_train_rmse, schneider_linreg_val_rmse, schneider_linreg_train_r2, schneider_linreg_val_r2, schneider_linreg_duration]\n",
        "\n",
        "schneider_scores.style.background_gradient(cmap = 'RdYlGn_r')"
      ]
    },
    {
      "cell_type": "markdown",
      "metadata": {
        "id": "lXQjoOSQIRz4"
      },
      "source": [
        "# RIDGE"
      ]
    },
    {
      "cell_type": "code",
      "execution_count": null,
      "metadata": {
        "id": "P4_2ZRLpIRz4",
        "outputId": "5b1ecc02-ef81-464a-97b0-9387e902a534"
      },
      "outputs": [
        {
          "data": {
            "text/html": [
              "<style type=\"text/css\">\n",
              "#T_84c4a_row0_col0, #T_84c4a_row0_col1, #T_84c4a_row1_col2, #T_84c4a_row1_col3, #T_84c4a_row1_col4 {\n",
              "  background-color: #006837;\n",
              "  color: #f1f1f1;\n",
              "}\n",
              "#T_84c4a_row0_col2, #T_84c4a_row0_col3, #T_84c4a_row0_col4, #T_84c4a_row1_col0, #T_84c4a_row1_col1 {\n",
              "  background-color: #a50026;\n",
              "  color: #f1f1f1;\n",
              "}\n",
              "</style>\n",
              "<table id=\"T_84c4a\">\n",
              "  <thead>\n",
              "    <tr>\n",
              "      <th class=\"blank level0\" >&nbsp;</th>\n",
              "      <th id=\"T_84c4a_level0_col0\" class=\"col_heading level0 col0\" >RMSE_train</th>\n",
              "      <th id=\"T_84c4a_level0_col1\" class=\"col_heading level0 col1\" >RMSE_validation</th>\n",
              "      <th id=\"T_84c4a_level0_col2\" class=\"col_heading level0 col2\" >R2_train</th>\n",
              "      <th id=\"T_84c4a_level0_col3\" class=\"col_heading level0 col3\" >R2_validation</th>\n",
              "      <th id=\"T_84c4a_level0_col4\" class=\"col_heading level0 col4\" >Duration</th>\n",
              "    </tr>\n",
              "  </thead>\n",
              "  <tbody>\n",
              "    <tr>\n",
              "      <th id=\"T_84c4a_level0_row0\" class=\"row_heading level0 row0\" >Linear Regression</th>\n",
              "      <td id=\"T_84c4a_row0_col0\" class=\"data row0 col0\" >538.941637</td>\n",
              "      <td id=\"T_84c4a_row0_col1\" class=\"data row0 col1\" >552.558818</td>\n",
              "      <td id=\"T_84c4a_row0_col2\" class=\"data row0 col2\" >0.374510</td>\n",
              "      <td id=\"T_84c4a_row0_col3\" class=\"data row0 col3\" >0.436800</td>\n",
              "      <td id=\"T_84c4a_row0_col4\" class=\"data row0 col4\" >5.504204</td>\n",
              "    </tr>\n",
              "    <tr>\n",
              "      <th id=\"T_84c4a_level0_row1\" class=\"row_heading level0 row1\" >Ridge</th>\n",
              "      <td id=\"T_84c4a_row1_col0\" class=\"data row1 col0\" >538.941648</td>\n",
              "      <td id=\"T_84c4a_row1_col1\" class=\"data row1 col1\" >552.564317</td>\n",
              "      <td id=\"T_84c4a_row1_col2\" class=\"data row1 col2\" >0.374510</td>\n",
              "      <td id=\"T_84c4a_row1_col3\" class=\"data row1 col3\" >0.436789</td>\n",
              "      <td id=\"T_84c4a_row1_col4\" class=\"data row1 col4\" >1.239085</td>\n",
              "    </tr>\n",
              "  </tbody>\n",
              "</table>\n"
            ],
            "text/plain": [
              "<pandas.io.formats.style.Styler at 0x118c26b50>"
            ]
          },
          "execution_count": 11,
          "metadata": {},
          "output_type": "execute_result"
        }
      ],
      "source": [
        "model_ridge, schneider_ridge_train_rmse, schneider_ridge_val_rmse, schneider_ridge_train_r2, schneider_ridge_val_r2, schneider_ridge_duration = SchneiderTrain(Ridge(), X_train_utilise, y_train, X_val_utilise, y_val, name = \"Ridge\")\n",
        "\n",
        "schneider_scores.loc['Ridge'] = [schneider_ridge_train_rmse, schneider_ridge_val_rmse, schneider_ridge_train_r2, schneider_ridge_val_r2, schneider_ridge_duration]\n",
        "\n",
        "schneider_scores.style.background_gradient(cmap = 'RdYlGn_r')"
      ]
    },
    {
      "cell_type": "markdown",
      "metadata": {
        "id": "P6dDoy4YIRz4"
      },
      "source": [
        "# LASSO"
      ]
    },
    {
      "cell_type": "code",
      "execution_count": null,
      "metadata": {
        "id": "rICr62boIRz4",
        "outputId": "06f6d630-afd0-4d7b-9a3c-602de08f3a85"
      },
      "outputs": [
        {
          "data": {
            "text/html": [
              "<style type=\"text/css\">\n",
              "#T_09a1d_row0_col0, #T_09a1d_row0_col1, #T_09a1d_row1_col0, #T_09a1d_row1_col1, #T_09a1d_row1_col4, #T_09a1d_row2_col2, #T_09a1d_row2_col3 {\n",
              "  background-color: #006837;\n",
              "  color: #f1f1f1;\n",
              "}\n",
              "#T_09a1d_row0_col2, #T_09a1d_row0_col3, #T_09a1d_row0_col4, #T_09a1d_row1_col2, #T_09a1d_row1_col3, #T_09a1d_row2_col0, #T_09a1d_row2_col1 {\n",
              "  background-color: #a50026;\n",
              "  color: #f1f1f1;\n",
              "}\n",
              "#T_09a1d_row2_col4 {\n",
              "  background-color: #b9e176;\n",
              "  color: #000000;\n",
              "}\n",
              "</style>\n",
              "<table id=\"T_09a1d\">\n",
              "  <thead>\n",
              "    <tr>\n",
              "      <th class=\"blank level0\" >&nbsp;</th>\n",
              "      <th id=\"T_09a1d_level0_col0\" class=\"col_heading level0 col0\" >RMSE_train</th>\n",
              "      <th id=\"T_09a1d_level0_col1\" class=\"col_heading level0 col1\" >RMSE_validation</th>\n",
              "      <th id=\"T_09a1d_level0_col2\" class=\"col_heading level0 col2\" >R2_train</th>\n",
              "      <th id=\"T_09a1d_level0_col3\" class=\"col_heading level0 col3\" >R2_validation</th>\n",
              "      <th id=\"T_09a1d_level0_col4\" class=\"col_heading level0 col4\" >Duration</th>\n",
              "    </tr>\n",
              "  </thead>\n",
              "  <tbody>\n",
              "    <tr>\n",
              "      <th id=\"T_09a1d_level0_row0\" class=\"row_heading level0 row0\" >Linear Regression</th>\n",
              "      <td id=\"T_09a1d_row0_col0\" class=\"data row0 col0\" >538.941637</td>\n",
              "      <td id=\"T_09a1d_row0_col1\" class=\"data row0 col1\" >552.558818</td>\n",
              "      <td id=\"T_09a1d_row0_col2\" class=\"data row0 col2\" >0.374510</td>\n",
              "      <td id=\"T_09a1d_row0_col3\" class=\"data row0 col3\" >0.436800</td>\n",
              "      <td id=\"T_09a1d_row0_col4\" class=\"data row0 col4\" >5.504204</td>\n",
              "    </tr>\n",
              "    <tr>\n",
              "      <th id=\"T_09a1d_level0_row1\" class=\"row_heading level0 row1\" >Ridge</th>\n",
              "      <td id=\"T_09a1d_row1_col0\" class=\"data row1 col0\" >538.941648</td>\n",
              "      <td id=\"T_09a1d_row1_col1\" class=\"data row1 col1\" >552.564317</td>\n",
              "      <td id=\"T_09a1d_row1_col2\" class=\"data row1 col2\" >0.374510</td>\n",
              "      <td id=\"T_09a1d_row1_col3\" class=\"data row1 col3\" >0.436789</td>\n",
              "      <td id=\"T_09a1d_row1_col4\" class=\"data row1 col4\" >1.239085</td>\n",
              "    </tr>\n",
              "    <tr>\n",
              "      <th id=\"T_09a1d_level0_row2\" class=\"row_heading level0 row2\" >Lasso</th>\n",
              "      <td id=\"T_09a1d_row2_col0\" class=\"data row2 col0\" >540.752759</td>\n",
              "      <td id=\"T_09a1d_row2_col1\" class=\"data row2 col1\" >556.431246</td>\n",
              "      <td id=\"T_09a1d_row2_col2\" class=\"data row2 col2\" >0.370299</td>\n",
              "      <td id=\"T_09a1d_row2_col3\" class=\"data row2 col3\" >0.428878</td>\n",
              "      <td id=\"T_09a1d_row2_col4\" class=\"data row2 col4\" >2.679678</td>\n",
              "    </tr>\n",
              "  </tbody>\n",
              "</table>\n"
            ],
            "text/plain": [
              "<pandas.io.formats.style.Styler at 0x160e43210>"
            ]
          },
          "execution_count": 12,
          "metadata": {},
          "output_type": "execute_result"
        }
      ],
      "source": [
        "model_lasso, schneider_lasso_train_rmse, schneider_lasso_val_rmse, schneider_lasso_train_r2, schneider_lasso_val_r2, schneider_lasso_duration = SchneiderTrain(Lasso(), X_train_utilise, y_train, X_val_utilise, y_val, name = \"Lasso\")\n",
        "\n",
        "schneider_scores.loc['Lasso'] = [schneider_lasso_train_rmse, schneider_lasso_val_rmse, schneider_lasso_train_r2, schneider_lasso_val_r2, schneider_lasso_duration]\n",
        "\n",
        "schneider_scores.style.background_gradient(cmap = 'RdYlGn_r')"
      ]
    },
    {
      "cell_type": "code",
      "execution_count": null,
      "metadata": {
        "id": "4fuIWdjXIRz4",
        "outputId": "ba15ee85-ded1-4f78-bcdf-7e65705ae76d"
      },
      "outputs": [
        {
          "name": "stdout",
          "output_type": "stream",
          "text": [
            "Best parameters:  {'alpha': 3100}\n"
          ]
        }
      ],
      "source": [
        "param_grid_la = {'alpha': [3000, 3050, 3100, 3150, 3200]}\n",
        "\n",
        "grid_search_lasso = GridSearchCV(model_lasso, param_grid_la, cv=4, scoring='neg_root_mean_squared_error', return_train_score=True)\n",
        "\n",
        "grid_search_lasso.fit(X_train_utilise, y_train)\n",
        "\n",
        "print(\"Best parameters: \", grid_search_lasso.best_params_)"
      ]
    },
    {
      "cell_type": "code",
      "execution_count": null,
      "metadata": {
        "id": "E4Qenv-hIRz5",
        "outputId": "ee1e1ca5-90fe-4df1-dbec-e18ccea3d1ad"
      },
      "outputs": [
        {
          "data": {
            "text/html": [
              "<style type=\"text/css\">\n",
              "#T_caa34_row0_col0, #T_caa34_row1_col0 {\n",
              "  background-color: #a70226;\n",
              "  color: #f1f1f1;\n",
              "}\n",
              "#T_caa34_row0_col1, #T_caa34_row1_col1 {\n",
              "  background-color: #fdaf62;\n",
              "  color: #000000;\n",
              "}\n",
              "#T_caa34_row0_col2, #T_caa34_row1_col2 {\n",
              "  background-color: #07753e;\n",
              "  color: #f1f1f1;\n",
              "}\n",
              "#T_caa34_row0_col3, #T_caa34_row1_col3 {\n",
              "  background-color: #a9da6c;\n",
              "  color: #000000;\n",
              "}\n",
              "#T_caa34_row0_col4, #T_caa34_row2_col0, #T_caa34_row2_col1, #T_caa34_row3_col2, #T_caa34_row3_col3 {\n",
              "  background-color: #a50026;\n",
              "  color: #f1f1f1;\n",
              "}\n",
              "#T_caa34_row1_col4 {\n",
              "  background-color: #6bbf64;\n",
              "  color: #000000;\n",
              "}\n",
              "#T_caa34_row2_col2, #T_caa34_row2_col3, #T_caa34_row3_col0, #T_caa34_row3_col1, #T_caa34_row3_col4 {\n",
              "  background-color: #006837;\n",
              "  color: #f1f1f1;\n",
              "}\n",
              "#T_caa34_row2_col4 {\n",
              "  background-color: #f5fbb2;\n",
              "  color: #000000;\n",
              "}\n",
              "</style>\n",
              "<table id=\"T_caa34\">\n",
              "  <thead>\n",
              "    <tr>\n",
              "      <th class=\"blank level0\" >&nbsp;</th>\n",
              "      <th id=\"T_caa34_level0_col0\" class=\"col_heading level0 col0\" >RMSE_train</th>\n",
              "      <th id=\"T_caa34_level0_col1\" class=\"col_heading level0 col1\" >RMSE_validation</th>\n",
              "      <th id=\"T_caa34_level0_col2\" class=\"col_heading level0 col2\" >R2_train</th>\n",
              "      <th id=\"T_caa34_level0_col3\" class=\"col_heading level0 col3\" >R2_validation</th>\n",
              "      <th id=\"T_caa34_level0_col4\" class=\"col_heading level0 col4\" >Duration</th>\n",
              "    </tr>\n",
              "  </thead>\n",
              "  <tbody>\n",
              "    <tr>\n",
              "      <th id=\"T_caa34_level0_row0\" class=\"row_heading level0 row0\" >Linear Regression</th>\n",
              "      <td id=\"T_caa34_row0_col0\" class=\"data row0 col0\" >538.941637</td>\n",
              "      <td id=\"T_caa34_row0_col1\" class=\"data row0 col1\" >552.558818</td>\n",
              "      <td id=\"T_caa34_row0_col2\" class=\"data row0 col2\" >0.374510</td>\n",
              "      <td id=\"T_caa34_row0_col3\" class=\"data row0 col3\" >0.436800</td>\n",
              "      <td id=\"T_caa34_row0_col4\" class=\"data row0 col4\" >5.504204</td>\n",
              "    </tr>\n",
              "    <tr>\n",
              "      <th id=\"T_caa34_level0_row1\" class=\"row_heading level0 row1\" >Ridge</th>\n",
              "      <td id=\"T_caa34_row1_col0\" class=\"data row1 col0\" >538.941648</td>\n",
              "      <td id=\"T_caa34_row1_col1\" class=\"data row1 col1\" >552.564317</td>\n",
              "      <td id=\"T_caa34_row1_col2\" class=\"data row1 col2\" >0.374510</td>\n",
              "      <td id=\"T_caa34_row1_col3\" class=\"data row1 col3\" >0.436789</td>\n",
              "      <td id=\"T_caa34_row1_col4\" class=\"data row1 col4\" >1.239085</td>\n",
              "    </tr>\n",
              "    <tr>\n",
              "      <th id=\"T_caa34_level0_row2\" class=\"row_heading level0 row2\" >Lasso</th>\n",
              "      <td id=\"T_caa34_row2_col0\" class=\"data row2 col0\" >540.752759</td>\n",
              "      <td id=\"T_caa34_row2_col1\" class=\"data row2 col1\" >556.431246</td>\n",
              "      <td id=\"T_caa34_row2_col2\" class=\"data row2 col2\" >0.370299</td>\n",
              "      <td id=\"T_caa34_row2_col3\" class=\"data row2 col3\" >0.428878</td>\n",
              "      <td id=\"T_caa34_row2_col4\" class=\"data row2 col4\" >2.679678</td>\n",
              "    </tr>\n",
              "    <tr>\n",
              "      <th id=\"T_caa34_level0_row3\" class=\"row_heading level0 row3\" >Lasso optim</th>\n",
              "      <td id=\"T_caa34_row3_col0\" class=\"data row3 col0\" >294.166166</td>\n",
              "      <td id=\"T_caa34_row3_col1\" class=\"data row3 col1\" >543.689994</td>\n",
              "      <td id=\"T_caa34_row3_col2\" class=\"data row3 col2\" >0.515709</td>\n",
              "      <td id=\"T_caa34_row3_col3\" class=\"data row3 col3\" >0.454734</td>\n",
              "      <td id=\"T_caa34_row3_col4\" class=\"data row3 col4\" >0.122170</td>\n",
              "    </tr>\n",
              "  </tbody>\n",
              "</table>\n"
            ],
            "text/plain": [
              "<pandas.io.formats.style.Styler at 0x16a86d2d0>"
            ]
          },
          "execution_count": 13,
          "metadata": {},
          "output_type": "execute_result"
        }
      ],
      "source": [
        "model_lasso_optim, schneider_lasso_optim_train_rmse, schneider_lasso_optim_val_rmse, schneider_lasso_optim_train_r2, schneider_lasso_optim_val_r2, schneider_lasso_optim_duration = SchneiderTrain(Lasso(alpha=3100), X_train_utilise_50k, y_train_50k, X_val_utilise, y_val, name = \"Lasso optim\")\n",
        "\n",
        "schneider_scores.loc['Lasso optim'] = [schneider_lasso_optim_train_rmse, schneider_lasso_optim_val_rmse, schneider_lasso_optim_train_r2, schneider_lasso_optim_val_r2, schneider_lasso_optim_duration]\n",
        "\n",
        "schneider_scores.style.background_gradient(cmap = 'RdYlGn_r')"
      ]
    },
    {
      "cell_type": "markdown",
      "metadata": {
        "id": "VQKwV1uXIRz5"
      },
      "source": [
        "# RFR\n",
        "Longue and not conclusive"
      ]
    },
    {
      "cell_type": "code",
      "execution_count": null,
      "metadata": {
        "id": "FxyVVN0yIRz6"
      },
      "outputs": [],
      "source": [
        "model_RFR, schneider_RFR_train_rmse, schneider_RFR_val_rmse, schneider_RFR_train_r2, schneider_RFR_val_r2, schneider_RFR_duration = SchneiderTrain(RandomForestRegressor(), X_train_utilise_50k, y_train_50k, X_val_utilise, y_val, name = \"Random Forest Regressor\")\n",
        "\n",
        "schneider_scores.loc['Random Forest Regressor'] = [schneider_RFR_train_rmse, schneider_RFR_val_rmse, schneider_RFR_train_r2, schneider_RFR_val_r2, schneider_RFR_duration]\n",
        "\n",
        "schneider_scores.style.background_gradient(cmap = 'RdYlGn_r')"
      ]
    },
    {
      "cell_type": "markdown",
      "metadata": {
        "id": "o5BYRDqtIRz6"
      },
      "source": [
        "# SVR\n",
        "Longue and not conclusive"
      ]
    },
    {
      "cell_type": "code",
      "execution_count": null,
      "metadata": {
        "id": "KC5ssJHkIRz6"
      },
      "outputs": [],
      "source": [
        "model_SVR, schneider_SVR_train_rmse, schneider_SVR_val_rmse, schneider_SVR_train_r2, schneider_SVR_val_r2, schneider_SVR_duration = SchneiderTrain(SVR(), X_train_utilise_200k, y_train_200k, X_val_utilise, y_val, name = \"Support Vector Regressor\")\n",
        "\n",
        "schneider_scores.loc['Support Vector Regressor'] = [schneider_SVR_train_rmse, schneider_SVR_val_rmse, schneider_SVR_train_r2, schneider_SVR_val_r2, schneider_SVR_duration]\n",
        "\n",
        "schneider_scores.style.background_gradient(cmap = 'RdYlGn_r')"
      ]
    },
    {
      "cell_type": "markdown",
      "metadata": {
        "id": "JjnGFcBCIRz6"
      },
      "source": [
        "# GBR"
      ]
    },
    {
      "cell_type": "code",
      "execution_count": null,
      "metadata": {
        "id": "B-3x7ANbIRz7",
        "outputId": "5efaa78a-7755-4ce7-c311-cce78853a759"
      },
      "outputs": [
        {
          "name": "stderr",
          "output_type": "stream",
          "text": [
            "/Users/jeremypnt/anaconda3/lib/python3.11/site-packages/sklearn/ensemble/_gb.py:424: DataConversionWarning: A column-vector y was passed when a 1d array was expected. Please change the shape of y to (n_samples, ), for example using ravel().\n",
            "  y = column_or_1d(y, warn=True)\n"
          ]
        },
        {
          "data": {
            "text/html": [
              "<style type=\"text/css\">\n",
              "#T_eccdb_row0_col0, #T_eccdb_row1_col0 {\n",
              "  background-color: #a70226;\n",
              "  color: #f1f1f1;\n",
              "}\n",
              "#T_eccdb_row0_col1, #T_eccdb_row1_col1 {\n",
              "  background-color: #d83128;\n",
              "  color: #f1f1f1;\n",
              "}\n",
              "#T_eccdb_row0_col2, #T_eccdb_row1_col2 {\n",
              "  background-color: #026c39;\n",
              "  color: #f1f1f1;\n",
              "}\n",
              "#T_eccdb_row0_col3, #T_eccdb_row1_col3 {\n",
              "  background-color: #1e9a51;\n",
              "  color: #f1f1f1;\n",
              "}\n",
              "#T_eccdb_row0_col4 {\n",
              "  background-color: #07753e;\n",
              "  color: #f1f1f1;\n",
              "}\n",
              "#T_eccdb_row1_col4 {\n",
              "  background-color: #016a38;\n",
              "  color: #f1f1f1;\n",
              "}\n",
              "#T_eccdb_row2_col0, #T_eccdb_row2_col1, #T_eccdb_row4_col2, #T_eccdb_row4_col3, #T_eccdb_row4_col4 {\n",
              "  background-color: #a50026;\n",
              "  color: #f1f1f1;\n",
              "}\n",
              "#T_eccdb_row2_col2, #T_eccdb_row2_col3, #T_eccdb_row3_col0, #T_eccdb_row3_col4, #T_eccdb_row4_col1 {\n",
              "  background-color: #006837;\n",
              "  color: #f1f1f1;\n",
              "}\n",
              "#T_eccdb_row2_col4 {\n",
              "  background-color: #036e3a;\n",
              "  color: #f1f1f1;\n",
              "}\n",
              "#T_eccdb_row3_col1 {\n",
              "  background-color: #fdc574;\n",
              "  color: #000000;\n",
              "}\n",
              "#T_eccdb_row3_col2 {\n",
              "  background-color: #daf08d;\n",
              "  color: #000000;\n",
              "}\n",
              "#T_eccdb_row3_col3 {\n",
              "  background-color: #c1e57b;\n",
              "  color: #000000;\n",
              "}\n",
              "#T_eccdb_row4_col0 {\n",
              "  background-color: #7fc866;\n",
              "  color: #000000;\n",
              "}\n",
              "</style>\n",
              "<table id=\"T_eccdb\">\n",
              "  <thead>\n",
              "    <tr>\n",
              "      <th class=\"blank level0\" >&nbsp;</th>\n",
              "      <th id=\"T_eccdb_level0_col0\" class=\"col_heading level0 col0\" >RMSE_train</th>\n",
              "      <th id=\"T_eccdb_level0_col1\" class=\"col_heading level0 col1\" >RMSE_validation</th>\n",
              "      <th id=\"T_eccdb_level0_col2\" class=\"col_heading level0 col2\" >R2_train</th>\n",
              "      <th id=\"T_eccdb_level0_col3\" class=\"col_heading level0 col3\" >R2_validation</th>\n",
              "      <th id=\"T_eccdb_level0_col4\" class=\"col_heading level0 col4\" >Duration</th>\n",
              "    </tr>\n",
              "  </thead>\n",
              "  <tbody>\n",
              "    <tr>\n",
              "      <th id=\"T_eccdb_level0_row0\" class=\"row_heading level0 row0\" >Linear Regression</th>\n",
              "      <td id=\"T_eccdb_row0_col0\" class=\"data row0 col0\" >538.941637</td>\n",
              "      <td id=\"T_eccdb_row0_col1\" class=\"data row0 col1\" >552.558818</td>\n",
              "      <td id=\"T_eccdb_row0_col2\" class=\"data row0 col2\" >0.374510</td>\n",
              "      <td id=\"T_eccdb_row0_col3\" class=\"data row0 col3\" >0.436800</td>\n",
              "      <td id=\"T_eccdb_row0_col4\" class=\"data row0 col4\" >5.504204</td>\n",
              "    </tr>\n",
              "    <tr>\n",
              "      <th id=\"T_eccdb_level0_row1\" class=\"row_heading level0 row1\" >Ridge</th>\n",
              "      <td id=\"T_eccdb_row1_col0\" class=\"data row1 col0\" >538.941648</td>\n",
              "      <td id=\"T_eccdb_row1_col1\" class=\"data row1 col1\" >552.564317</td>\n",
              "      <td id=\"T_eccdb_row1_col2\" class=\"data row1 col2\" >0.374510</td>\n",
              "      <td id=\"T_eccdb_row1_col3\" class=\"data row1 col3\" >0.436789</td>\n",
              "      <td id=\"T_eccdb_row1_col4\" class=\"data row1 col4\" >1.239085</td>\n",
              "    </tr>\n",
              "    <tr>\n",
              "      <th id=\"T_eccdb_level0_row2\" class=\"row_heading level0 row2\" >Lasso</th>\n",
              "      <td id=\"T_eccdb_row2_col0\" class=\"data row2 col0\" >540.752759</td>\n",
              "      <td id=\"T_eccdb_row2_col1\" class=\"data row2 col1\" >556.431246</td>\n",
              "      <td id=\"T_eccdb_row2_col2\" class=\"data row2 col2\" >0.370299</td>\n",
              "      <td id=\"T_eccdb_row2_col3\" class=\"data row2 col3\" >0.428878</td>\n",
              "      <td id=\"T_eccdb_row2_col4\" class=\"data row2 col4\" >2.679678</td>\n",
              "    </tr>\n",
              "    <tr>\n",
              "      <th id=\"T_eccdb_level0_row3\" class=\"row_heading level0 row3\" >Lasso optim</th>\n",
              "      <td id=\"T_eccdb_row3_col0\" class=\"data row3 col0\" >294.166166</td>\n",
              "      <td id=\"T_eccdb_row3_col1\" class=\"data row3 col1\" >543.689994</td>\n",
              "      <td id=\"T_eccdb_row3_col2\" class=\"data row3 col2\" >0.515709</td>\n",
              "      <td id=\"T_eccdb_row3_col3\" class=\"data row3 col3\" >0.454734</td>\n",
              "      <td id=\"T_eccdb_row3_col4\" class=\"data row3 col4\" >0.122170</td>\n",
              "    </tr>\n",
              "    <tr>\n",
              "      <th id=\"T_eccdb_level0_row4\" class=\"row_heading level0 row4\" >Gradient Boosting Regressor</th>\n",
              "      <td id=\"T_eccdb_row4_col0\" class=\"data row4 col0\" >353.715055</td>\n",
              "      <td id=\"T_eccdb_row4_col1\" class=\"data row4 col1\" >519.639524</td>\n",
              "      <td id=\"T_eccdb_row4_col2\" class=\"data row4 col2\" >0.730571</td>\n",
              "      <td id=\"T_eccdb_row4_col3\" class=\"data row4 col3\" >0.501907</td>\n",
              "      <td id=\"T_eccdb_row4_col4\" class=\"data row4 col4\" >175.843901</td>\n",
              "    </tr>\n",
              "  </tbody>\n",
              "</table>\n"
            ],
            "text/plain": [
              "<pandas.io.formats.style.Styler at 0x160c49450>"
            ]
          },
          "execution_count": 16,
          "metadata": {},
          "output_type": "execute_result"
        }
      ],
      "source": [
        "model_GBR, schneider_GBR_train_rmse, schneider_GBR_val_rmse, schneider_GBR_train_r2, schneider_GBR_val_r2, schneider_GBR_duration = SchneiderTrain(GradientBoostingRegressor(), X_train_utilise, y_train, X_val_utilise, y_val, name = \"Gradient Boosting Regressor\")\n",
        "\n",
        "schneider_scores.loc['Gradient Boosting Regressor'] = [schneider_GBR_train_rmse, schneider_GBR_val_rmse, schneider_GBR_train_r2, schneider_GBR_val_r2, schneider_GBR_duration]\n",
        "\n",
        "schneider_scores.style.background_gradient(cmap = 'RdYlGn_r')"
      ]
    },
    {
      "cell_type": "code",
      "execution_count": null,
      "metadata": {
        "id": "bIbePMBCIRz7",
        "outputId": "d61c1558-be84-42a1-8dae-61333da630cc"
      },
      "outputs": [
        {
          "name": "stderr",
          "output_type": "stream",
          "text": [
            "/Users/jeremypnt/anaconda3/lib/python3.11/site-packages/sklearn/ensemble/_gb.py:424: DataConversionWarning: A column-vector y was passed when a 1d array was expected. Please change the shape of y to (n_samples, ), for example using ravel().\n",
            "  y = column_or_1d(y, warn=True)\n"
          ]
        },
        {
          "name": "stdout",
          "output_type": "stream",
          "text": [
            "      Iter       Train Loss   Remaining Time \n",
            "         1      390938.6383            1.53m\n",
            "         2      341628.2428            1.53m\n",
            "         3      304167.9176            1.50m\n",
            "         4      277065.4947            1.49m\n",
            "         5      257176.0855            1.47m\n",
            "         6      241303.4540            1.45m\n",
            "         7      224529.6017            1.44m\n",
            "         8      215769.0361            1.42m\n",
            "         9      207537.4779            1.41m\n",
            "        10      197097.2339            1.40m\n",
            "        20      158883.8482            1.24m\n",
            "        30      143057.8168            1.08m\n",
            "        40      132108.2383           55.79s\n",
            "        50      124540.1353           46.40s\n",
            "        60      119364.7612           37.11s\n",
            "        70      116267.0496           27.79s\n",
            "        80      112098.8075           18.51s\n",
            "        90      108418.5621            9.25s\n",
            "       100      103842.5252            0.00s\n"
          ]
        },
        {
          "data": {
            "text/html": [
              "<style type=\"text/css\">\n",
              "#T_99caa_row0_col0, #T_99caa_row1_col0 {\n",
              "  background-color: #a90426;\n",
              "  color: #f1f1f1;\n",
              "}\n",
              "#T_99caa_row0_col1, #T_99caa_row1_col1 {\n",
              "  background-color: #da362a;\n",
              "  color: #f1f1f1;\n",
              "}\n",
              "#T_99caa_row0_col2, #T_99caa_row1_col2, #T_99caa_row2_col4 {\n",
              "  background-color: #026c39;\n",
              "  color: #f1f1f1;\n",
              "}\n",
              "#T_99caa_row0_col3, #T_99caa_row1_col3 {\n",
              "  background-color: #249d53;\n",
              "  color: #f1f1f1;\n",
              "}\n",
              "#T_99caa_row0_col4 {\n",
              "  background-color: #016a38;\n",
              "  color: #f1f1f1;\n",
              "}\n",
              "#T_99caa_row1_col4, #T_99caa_row2_col2, #T_99caa_row2_col3, #T_99caa_row4_col0, #T_99caa_row4_col1 {\n",
              "  background-color: #006837;\n",
              "  color: #f1f1f1;\n",
              "}\n",
              "#T_99caa_row2_col0, #T_99caa_row2_col1, #T_99caa_row3_col4, #T_99caa_row4_col2, #T_99caa_row4_col3, #T_99caa_row4_col4 {\n",
              "  background-color: #a50026;\n",
              "  color: #f1f1f1;\n",
              "}\n",
              "#T_99caa_row3_col0 {\n",
              "  background-color: #3ca959;\n",
              "  color: #f1f1f1;\n",
              "}\n",
              "#T_99caa_row3_col1 {\n",
              "  background-color: #b3df72;\n",
              "  color: #000000;\n",
              "}\n",
              "#T_99caa_row3_col2 {\n",
              "  background-color: #db382b;\n",
              "  color: #f1f1f1;\n",
              "}\n",
              "#T_99caa_row3_col3 {\n",
              "  background-color: #fdb768;\n",
              "  color: #000000;\n",
              "}\n",
              "</style>\n",
              "<table id=\"T_99caa\">\n",
              "  <thead>\n",
              "    <tr>\n",
              "      <th class=\"blank level0\" >&nbsp;</th>\n",
              "      <th id=\"T_99caa_level0_col0\" class=\"col_heading level0 col0\" >RMSE_train</th>\n",
              "      <th id=\"T_99caa_level0_col1\" class=\"col_heading level0 col1\" >RMSE_validation</th>\n",
              "      <th id=\"T_99caa_level0_col2\" class=\"col_heading level0 col2\" >R2_train</th>\n",
              "      <th id=\"T_99caa_level0_col3\" class=\"col_heading level0 col3\" >R2_validation</th>\n",
              "      <th id=\"T_99caa_level0_col4\" class=\"col_heading level0 col4\" >Duration</th>\n",
              "    </tr>\n",
              "  </thead>\n",
              "  <tbody>\n",
              "    <tr>\n",
              "      <th id=\"T_99caa_level0_row0\" class=\"row_heading level0 row0\" >Linear Regression</th>\n",
              "      <td id=\"T_99caa_row0_col0\" class=\"data row0 col0\" >538.974138</td>\n",
              "      <td id=\"T_99caa_row0_col1\" class=\"data row0 col1\" >552.558227</td>\n",
              "      <td id=\"T_99caa_row0_col2\" class=\"data row0 col2\" >0.374434</td>\n",
              "      <td id=\"T_99caa_row0_col3\" class=\"data row0 col3\" >0.436801</td>\n",
              "      <td id=\"T_99caa_row0_col4\" class=\"data row0 col4\" >0.932523</td>\n",
              "    </tr>\n",
              "    <tr>\n",
              "      <th id=\"T_99caa_level0_row1\" class=\"row_heading level0 row1\" >Ridge</th>\n",
              "      <td id=\"T_99caa_row1_col0\" class=\"data row1 col0\" >538.974152</td>\n",
              "      <td id=\"T_99caa_row1_col1\" class=\"data row1 col1\" >552.564541</td>\n",
              "      <td id=\"T_99caa_row1_col2\" class=\"data row1 col2\" >0.374434</td>\n",
              "      <td id=\"T_99caa_row1_col3\" class=\"data row1 col3\" >0.436788</td>\n",
              "      <td id=\"T_99caa_row1_col4\" class=\"data row1 col4\" >0.217347</td>\n",
              "    </tr>\n",
              "    <tr>\n",
              "      <th id=\"T_99caa_level0_row2\" class=\"row_heading level0 row2\" >Lasso</th>\n",
              "      <td id=\"T_99caa_row2_col0\" class=\"data row2 col0\" >540.758846</td>\n",
              "      <td id=\"T_99caa_row2_col1\" class=\"data row2 col1\" >556.436979</td>\n",
              "      <td id=\"T_99caa_row2_col2\" class=\"data row2 col2\" >0.370285</td>\n",
              "      <td id=\"T_99caa_row2_col3\" class=\"data row2 col3\" >0.428866</td>\n",
              "      <td id=\"T_99caa_row2_col4\" class=\"data row2 col4\" >1.016547</td>\n",
              "    </tr>\n",
              "    <tr>\n",
              "      <th id=\"T_99caa_level0_row3\" class=\"row_heading level0 row3\" >Gradient Boosting Regressor</th>\n",
              "      <td id=\"T_99caa_row3_col0\" class=\"data row3 col0\" >354.407924</td>\n",
              "      <td id=\"T_99caa_row3_col1\" class=\"data row3 col1\" >532.847531</td>\n",
              "      <td id=\"T_99caa_row3_col2\" class=\"data row3 col2\" >0.729515</td>\n",
              "      <td id=\"T_99caa_row3_col3\" class=\"data row3 col3\" >0.476265</td>\n",
              "      <td id=\"T_99caa_row3_col4\" class=\"data row3 col4\" >94.426074</td>\n",
              "    </tr>\n",
              "    <tr>\n",
              "      <th id=\"T_99caa_level0_row4\" class=\"row_heading level0 row4\" >Gradient Boosting Regressor optim</th>\n",
              "      <td id=\"T_99caa_row4_col0\" class=\"data row4 col0\" >322.246063</td>\n",
              "      <td id=\"T_99caa_row4_col1\" class=\"data row4 col1\" >521.383881</td>\n",
              "      <td id=\"T_99caa_row4_col2\" class=\"data row4 col2\" >0.776379</td>\n",
              "      <td id=\"T_99caa_row4_col3\" class=\"data row4 col3\" >0.498558</td>\n",
              "      <td id=\"T_99caa_row4_col4\" class=\"data row4 col4\" >94.128612</td>\n",
              "    </tr>\n",
              "  </tbody>\n",
              "</table>\n"
            ],
            "text/plain": [
              "<pandas.io.formats.style.Styler at 0x16bb52350>"
            ]
          },
          "execution_count": 16,
          "metadata": {},
          "output_type": "execute_result"
        }
      ],
      "source": [
        "model_BGR_optim, schneider_GBR_optim_train_rmse, schneider_GBR_optim_val_rmse, schneider_GBR_optim_train_r2, schneider_GBR_optim_val_r2, schneider_GBR_optim_duration = SchneiderTrain(GradientBoostingRegressor(n_estimators=100, max_depth=3, learning_rate=0.2, verbose=1), X_train_utilise, y_train, X_val_utilise, y_val, name = \"Gradient Boosting Regressor optim\")\n",
        "\n",
        "schneider_scores.loc['Gradient Boosting Regressor optim'] = [schneider_GBR_optim_train_rmse, schneider_GBR_optim_val_rmse, schneider_GBR_optim_train_r2, schneider_GBR_optim_val_r2, schneider_GBR_optim_duration]\n",
        "\n",
        "schneider_scores.style.background_gradient(cmap = 'RdYlGn_r')"
      ]
    },
    {
      "cell_type": "markdown",
      "metadata": {
        "id": "s4QOaIVtIRz7"
      },
      "source": [
        "# XGBoost"
      ]
    },
    {
      "cell_type": "code",
      "execution_count": null,
      "metadata": {
        "id": "4OMzRr7yIRz7"
      },
      "outputs": [],
      "source": [
        "# XGBoost is an open-source library that has to be installed\n",
        "# it follows the same logic as scikit-learn with a Model class and a fit function\n",
        "# XGBoost requires labels to be encoded (it cannot be strings)\n",
        "\n",
        "from sklearn.preprocessing import LabelEncoder\n",
        "label_encoder = LabelEncoder()\n",
        "\n",
        "y_train_encoded = label_encoder.fit_transform(y_train)\n",
        "y_train_encoded_200k = label_encoder.fit_transform(y_train_200k)\n",
        "y_train_encoded_50k = label_encoder.fit_transform(y_train_50k)\n",
        "\n",
        "y_val_encoded = label_encoder.fit_transform(y_val)\n",
        "y_val_encoded_200k = label_encoder.fit_transform(y_val[:200000])\n",
        "y_val_encoded_50k = label_encoder.fit_transform(y_val[:50000])\n",
        "\n",
        "#y_test_encoded = label_encoder.fit_transform(y_test)"
      ]
    },
    {
      "cell_type": "code",
      "execution_count": null,
      "metadata": {
        "id": "pazDRY3eIRz7",
        "outputId": "dbb879e1-02f7-4451-e6aa-26d6dd195820"
      },
      "outputs": [
        {
          "data": {
            "text/html": [
              "<style type=\"text/css\">\n",
              "#T_74ef5_row0_col0 {\n",
              "  background-color: #f57245;\n",
              "  color: #f1f1f1;\n",
              "}\n",
              "#T_74ef5_row0_col1, #T_74ef5_row1_col0, #T_74ef5_row1_col3, #T_74ef5_row3_col4, #T_74ef5_row4_col2 {\n",
              "  background-color: #a50026;\n",
              "  color: #f1f1f1;\n",
              "}\n",
              "#T_74ef5_row0_col2 {\n",
              "  background-color: #fdbb6c;\n",
              "  color: #000000;\n",
              "}\n",
              "#T_74ef5_row0_col3 {\n",
              "  background-color: #d02927;\n",
              "  color: #f1f1f1;\n",
              "}\n",
              "#T_74ef5_row0_col4, #T_74ef5_row2_col0, #T_74ef5_row2_col2, #T_74ef5_row2_col3, #T_74ef5_row3_col1 {\n",
              "  background-color: #006837;\n",
              "  color: #f1f1f1;\n",
              "}\n",
              "#T_74ef5_row1_col1 {\n",
              "  background-color: #be1827;\n",
              "  color: #f1f1f1;\n",
              "}\n",
              "#T_74ef5_row1_col2 {\n",
              "  background-color: #c62027;\n",
              "  color: #f1f1f1;\n",
              "}\n",
              "#T_74ef5_row1_col4 {\n",
              "  background-color: #78c565;\n",
              "  color: #000000;\n",
              "}\n",
              "#T_74ef5_row2_col1 {\n",
              "  background-color: #0b7d42;\n",
              "  color: #f1f1f1;\n",
              "}\n",
              "#T_74ef5_row2_col4 {\n",
              "  background-color: #54b45f;\n",
              "  color: #f1f1f1;\n",
              "}\n",
              "#T_74ef5_row3_col0 {\n",
              "  background-color: #219c52;\n",
              "  color: #f1f1f1;\n",
              "}\n",
              "#T_74ef5_row3_col2 {\n",
              "  background-color: #f16640;\n",
              "  color: #f1f1f1;\n",
              "}\n",
              "#T_74ef5_row3_col3 {\n",
              "  background-color: #fb9d59;\n",
              "  color: #000000;\n",
              "}\n",
              "#T_74ef5_row4_col0 {\n",
              "  background-color: #dd3d2d;\n",
              "  color: #f1f1f1;\n",
              "}\n",
              "#T_74ef5_row4_col1 {\n",
              "  background-color: #ad0826;\n",
              "  color: #f1f1f1;\n",
              "}\n",
              "#T_74ef5_row4_col3 {\n",
              "  background-color: #c01a27;\n",
              "  color: #f1f1f1;\n",
              "}\n",
              "#T_74ef5_row4_col4 {\n",
              "  background-color: #73c264;\n",
              "  color: #000000;\n",
              "}\n",
              "</style>\n",
              "<table id=\"T_74ef5\">\n",
              "  <thead>\n",
              "    <tr>\n",
              "      <th class=\"blank level0\" >&nbsp;</th>\n",
              "      <th id=\"T_74ef5_level0_col0\" class=\"col_heading level0 col0\" >RMSE_train</th>\n",
              "      <th id=\"T_74ef5_level0_col1\" class=\"col_heading level0 col1\" >RMSE_validation</th>\n",
              "      <th id=\"T_74ef5_level0_col2\" class=\"col_heading level0 col2\" >R2_train</th>\n",
              "      <th id=\"T_74ef5_level0_col3\" class=\"col_heading level0 col3\" >R2_validation</th>\n",
              "      <th id=\"T_74ef5_level0_col4\" class=\"col_heading level0 col4\" >Duration</th>\n",
              "    </tr>\n",
              "  </thead>\n",
              "  <tbody>\n",
              "    <tr>\n",
              "      <th id=\"T_74ef5_level0_row0\" class=\"row_heading level0 row0\" >Linear Regression</th>\n",
              "      <td id=\"T_74ef5_row0_col0\" class=\"data row0 col0\" >291.018930</td>\n",
              "      <td id=\"T_74ef5_row0_col1\" class=\"data row0 col1\" >538.518596</td>\n",
              "      <td id=\"T_74ef5_row0_col2\" class=\"data row0 col2\" >0.526016</td>\n",
              "      <td id=\"T_74ef5_row0_col3\" class=\"data row0 col3\" >0.465057</td>\n",
              "      <td id=\"T_74ef5_row0_col4\" class=\"data row0 col4\" >0.406742</td>\n",
              "    </tr>\n",
              "    <tr>\n",
              "      <th id=\"T_74ef5_level0_row1\" class=\"row_heading level0 row1\" >Gradient Boosting Regressor</th>\n",
              "      <td id=\"T_74ef5_row1_col0\" class=\"data row1 col0\" >353.715055</td>\n",
              "      <td id=\"T_74ef5_row1_col1\" class=\"data row1 col1\" >514.865024</td>\n",
              "      <td id=\"T_74ef5_row1_col2\" class=\"data row1 col2\" >0.730571</td>\n",
              "      <td id=\"T_74ef5_row1_col3\" class=\"data row1 col3\" >0.511018</td>\n",
              "      <td id=\"T_74ef5_row1_col4\" class=\"data row1 col4\" >182.100592</td>\n",
              "    </tr>\n",
              "    <tr>\n",
              "      <th id=\"T_74ef5_level0_row2\" class=\"row_heading level0 row2\" >XGBoost</th>\n",
              "      <td id=\"T_74ef5_row2_col0\" class=\"data row2 col0\" >55.484321</td>\n",
              "      <td id=\"T_74ef5_row2_col1\" class=\"data row2 col1\" >99.189001</td>\n",
              "      <td id=\"T_74ef5_row2_col2\" class=\"data row2 col2\" >-0.001919</td>\n",
              "      <td id=\"T_74ef5_row2_col3\" class=\"data row2 col3\" >-0.008563</td>\n",
              "      <td id=\"T_74ef5_row2_col4\" class=\"data row2 col4\" >141.656187</td>\n",
              "    </tr>\n",
              "    <tr>\n",
              "      <th id=\"T_74ef5_level0_row3\" class=\"row_heading level0 row3\" >MLP</th>\n",
              "      <td id=\"T_74ef5_row3_col0\" class=\"data row3 col0\" >88.654784</td>\n",
              "      <td id=\"T_74ef5_row3_col1\" class=\"data row3 col1\" >78.575305</td>\n",
              "      <td id=\"T_74ef5_row3_col2\" class=\"data row3 col2\" >0.634492</td>\n",
              "      <td id=\"T_74ef5_row3_col3\" class=\"data row3 col3\" >0.367081</td>\n",
              "      <td id=\"T_74ef5_row3_col4\" class=\"data row3 col4\" >789.688519</td>\n",
              "    </tr>\n",
              "    <tr>\n",
              "      <th id=\"T_74ef5_level0_row4\" class=\"row_heading level0 row4\" >Gradient Boosting Regressor optim</th>\n",
              "      <td id=\"T_74ef5_row4_col0\" class=\"data row4 col0\" >317.014908</td>\n",
              "      <td id=\"T_74ef5_row4_col1\" class=\"data row4 col1\" >529.840967</td>\n",
              "      <td id=\"T_74ef5_row4_col2\" class=\"data row4 col2\" >0.783580</td>\n",
              "      <td id=\"T_74ef5_row4_col3\" class=\"data row4 col3\" >0.482159</td>\n",
              "      <td id=\"T_74ef5_row4_col4\" class=\"data row4 col4\" >175.160386</td>\n",
              "    </tr>\n",
              "  </tbody>\n",
              "</table>\n"
            ],
            "text/plain": [
              "<pandas.io.formats.style.Styler at 0x157f1d810>"
            ]
          },
          "execution_count": 44,
          "metadata": {},
          "output_type": "execute_result"
        }
      ],
      "source": [
        "model_XGB, schneider_XGB_train_rmse, schneider_XGB_val_rmse, schneider_XGB_train_r2, schneider_XGB_val_r2, schneider_XGB_duration = SchneiderTrain(XGBClassifier(), X_train_utilise, y_train_encoded, X_val_utilise, y_val_encoded, name = \"XGBoost\")\n",
        "\n",
        "schneider_scores.loc['XGBoost'] = [schneider_XGB_train_rmse, schneider_XGB_val_rmse, schneider_XGB_train_r2, schneider_XGB_val_r2, schneider_XGB_duration]\n",
        "\n",
        "schneider_scores.style.background_gradient(cmap = 'RdYlGn_r')"
      ]
    },
    {
      "cell_type": "markdown",
      "metadata": {
        "id": "rPtX06fdIRz8"
      },
      "source": [
        "# MLP"
      ]
    },
    {
      "cell_type": "code",
      "execution_count": null,
      "metadata": {
        "id": "VMP5YIwSIRz8",
        "outputId": "a1354231-2d58-464c-fa09-735a8163d5e1"
      },
      "outputs": [
        {
          "data": {
            "text/html": [
              "<style type=\"text/css\">\n",
              "#T_c925a_row0_col0 {\n",
              "  background-color: #f7844e;\n",
              "  color: #f1f1f1;\n",
              "}\n",
              "#T_c925a_row0_col1, #T_c925a_row1_col0, #T_c925a_row1_col2, #T_c925a_row1_col3, #T_c925a_row2_col4 {\n",
              "  background-color: #a50026;\n",
              "  color: #f1f1f1;\n",
              "}\n",
              "#T_c925a_row0_col2, #T_c925a_row3_col3 {\n",
              "  background-color: #fb9d59;\n",
              "  color: #000000;\n",
              "}\n",
              "#T_c925a_row0_col3 {\n",
              "  background-color: #d02927;\n",
              "  color: #f1f1f1;\n",
              "}\n",
              "#T_c925a_row0_col4, #T_c925a_row2_col0, #T_c925a_row2_col2, #T_c925a_row2_col3, #T_c925a_row3_col1 {\n",
              "  background-color: #006837;\n",
              "  color: #f1f1f1;\n",
              "}\n",
              "#T_c925a_row1_col1 {\n",
              "  background-color: #be1827;\n",
              "  color: #f1f1f1;\n",
              "}\n",
              "#T_c925a_row1_col4 {\n",
              "  background-color: #18954f;\n",
              "  color: #f1f1f1;\n",
              "}\n",
              "#T_c925a_row2_col1 {\n",
              "  background-color: #0b7d42;\n",
              "  color: #f1f1f1;\n",
              "}\n",
              "#T_c925a_row3_col0 {\n",
              "  background-color: #016a38;\n",
              "  color: #f1f1f1;\n",
              "}\n",
              "#T_c925a_row3_col2 {\n",
              "  background-color: #e0422f;\n",
              "  color: #f1f1f1;\n",
              "}\n",
              "#T_c925a_row3_col4 {\n",
              "  background-color: #dff293;\n",
              "  color: #000000;\n",
              "}\n",
              "</style>\n",
              "<table id=\"T_c925a\">\n",
              "  <thead>\n",
              "    <tr>\n",
              "      <th class=\"blank level0\" >&nbsp;</th>\n",
              "      <th id=\"T_c925a_level0_col0\" class=\"col_heading level0 col0\" >RMSE_train</th>\n",
              "      <th id=\"T_c925a_level0_col1\" class=\"col_heading level0 col1\" >RMSE_validation</th>\n",
              "      <th id=\"T_c925a_level0_col2\" class=\"col_heading level0 col2\" >R2_train</th>\n",
              "      <th id=\"T_c925a_level0_col3\" class=\"col_heading level0 col3\" >R2_validation</th>\n",
              "      <th id=\"T_c925a_level0_col4\" class=\"col_heading level0 col4\" >Duration</th>\n",
              "    </tr>\n",
              "  </thead>\n",
              "  <tbody>\n",
              "    <tr>\n",
              "      <th id=\"T_c925a_level0_row0\" class=\"row_heading level0 row0\" >Linear Regression</th>\n",
              "      <td id=\"T_c925a_row0_col0\" class=\"data row0 col0\" >291.018930</td>\n",
              "      <td id=\"T_c925a_row0_col1\" class=\"data row0 col1\" >538.518596</td>\n",
              "      <td id=\"T_c925a_row0_col2\" class=\"data row0 col2\" >0.526016</td>\n",
              "      <td id=\"T_c925a_row0_col3\" class=\"data row0 col3\" >0.465057</td>\n",
              "      <td id=\"T_c925a_row0_col4\" class=\"data row0 col4\" >0.406742</td>\n",
              "    </tr>\n",
              "    <tr>\n",
              "      <th id=\"T_c925a_level0_row1\" class=\"row_heading level0 row1\" >Gradient Boosting Regressor</th>\n",
              "      <td id=\"T_c925a_row1_col0\" class=\"data row1 col0\" >353.715055</td>\n",
              "      <td id=\"T_c925a_row1_col1\" class=\"data row1 col1\" >514.865024</td>\n",
              "      <td id=\"T_c925a_row1_col2\" class=\"data row1 col2\" >0.730571</td>\n",
              "      <td id=\"T_c925a_row1_col3\" class=\"data row1 col3\" >0.511018</td>\n",
              "      <td id=\"T_c925a_row1_col4\" class=\"data row1 col4\" >182.100592</td>\n",
              "    </tr>\n",
              "    <tr>\n",
              "      <th id=\"T_c925a_level0_row2\" class=\"row_heading level0 row2\" >XGBoost</th>\n",
              "      <td id=\"T_c925a_row2_col0\" class=\"data row2 col0\" >87.547285</td>\n",
              "      <td id=\"T_c925a_row2_col1\" class=\"data row2 col1\" >99.180563</td>\n",
              "      <td id=\"T_c925a_row2_col2\" class=\"data row2 col2\" >-0.008537</td>\n",
              "      <td id=\"T_c925a_row2_col3\" class=\"data row2 col3\" >-0.008392</td>\n",
              "      <td id=\"T_c925a_row2_col4\" class=\"data row2 col4\" >1899.549394</td>\n",
              "    </tr>\n",
              "    <tr>\n",
              "      <th id=\"T_c925a_level0_row3\" class=\"row_heading level0 row3\" >MLP</th>\n",
              "      <td id=\"T_c925a_row3_col0\" class=\"data row3 col0\" >88.654784</td>\n",
              "      <td id=\"T_c925a_row3_col1\" class=\"data row3 col1\" >78.575305</td>\n",
              "      <td id=\"T_c925a_row3_col2\" class=\"data row3 col2\" >0.634492</td>\n",
              "      <td id=\"T_c925a_row3_col3\" class=\"data row3 col3\" >0.367081</td>\n",
              "      <td id=\"T_c925a_row3_col4\" class=\"data row3 col4\" >789.688519</td>\n",
              "    </tr>\n",
              "  </tbody>\n",
              "</table>\n"
            ],
            "text/plain": [
              "<pandas.io.formats.style.Styler at 0x15446b690>"
            ]
          },
          "execution_count": 31,
          "metadata": {},
          "output_type": "execute_result"
        }
      ],
      "source": [
        "model_MLP, schneider_MLP_train_rmse, schneider_MLP_val_rmse, schneider_MLP_train_r2, schneider_MLP_val_r2, schneider_MLP_duration = SchneiderTrain(MLPRegressor(), X_train_utilise, y_train_encoded, X_val_utilise, y_val_encoded, name = \"MLP\")\n",
        "\n",
        "schneider_scores.loc['MLP'] = [schneider_MLP_train_rmse, schneider_MLP_val_rmse, schneider_MLP_train_r2, schneider_MLP_val_r2, schneider_MLP_duration]\n",
        "\n",
        "schneider_scores.style.background_gradient(cmap = 'RdYlGn_r')"
      ]
    },
    {
      "cell_type": "markdown",
      "metadata": {
        "id": "z3REgDa9IRz8"
      },
      "source": [
        "# Predict on test and save results"
      ]
    },
    {
      "cell_type": "markdown",
      "metadata": {
        "id": "EyOLLnu4IRz8"
      },
      "source": [
        "RMSE_hfactory=(R_0 - 0.8 * RMSE_pred)/R_0 avec R_0= RMSE(y_true,[0]*len(y_true))"
      ]
    },
    {
      "cell_type": "code",
      "execution_count": null,
      "metadata": {
        "id": "zSKzRdjuIRz9"
      },
      "outputs": [],
      "source": [
        "def hfactory_score(y_true, y_pred):\n",
        "    rmse_0 = mean_squared_error(y_true, [0]*len(y_true), squared=False)\n",
        "    rmse_pred = mean_squared_error(y_true, y_pred, squared=False)\n",
        "    return (rmse_0 - 0.8 * rmse_pred) / rmse_0\n"
      ]
    },
    {
      "cell_type": "code",
      "execution_count": null,
      "metadata": {
        "id": "T9d19rd4IRz9",
        "outputId": "c16c2a62-15bb-4edb-e0a1-d10634d96ba0"
      },
      "outputs": [
        {
          "name": "stdout",
          "output_type": "stream",
          "text": [
            "0.5850646299103921\n",
            "0.4357851415829696\n"
          ]
        }
      ],
      "source": [
        "y_train_pred = model_GBR.predict(X_train_utilise)\n",
        "y_val_pred = model_GBR.predict(X_val_utilise)\n",
        "\n",
        "print(hfactory_score(y_train, y_train_pred))\n",
        "print(hfactory_score(y_val, y_val_pred))"
      ]
    },
    {
      "cell_type": "code",
      "execution_count": null,
      "metadata": {
        "id": "KUf6K9sUIRz-"
      },
      "outputs": [],
      "source": [
        "#X_Test = pd.read_csv('datasets_hi4/Data_propre/X_test.csv', sep=';', header=0, index_col='index')\n",
        "X_test = pd.read_csv('preprocessed_datasets/X_test.csv', sep=';', header=0, index_col='index')\n",
        "X_test_utilise = X_test[colonnes_utilisees]"
      ]
    },
    {
      "cell_type": "code",
      "execution_count": null,
      "metadata": {
        "id": "8EP2LwWDIRz-",
        "outputId": "49e0d525-76a6-451a-f49e-bc19720ea60c"
      },
      "outputs": [
        {
          "data": {
            "text/plain": [
              "array([1.10681993e+04, 4.30610885e+00, 4.30610885e+00, ...,\n",
              "       4.30610885e+00, 4.30610885e+00, 4.30610885e+00])"
            ]
          },
          "execution_count": 21,
          "metadata": {},
          "output_type": "execute_result"
        }
      ],
      "source": [
        "y_test_pred = model_GBR.predict(X_test_utilise)\n",
        "y_test_pred"
      ]
    },
    {
      "cell_type": "code",
      "execution_count": null,
      "metadata": {
        "id": "zjTVqPGoIRz_",
        "outputId": "3dc08a42-1766-49b4-afd4-7ff63a39af13"
      },
      "outputs": [
        {
          "data": {
            "text/html": [
              "<div>\n",
              "<style scoped>\n",
              "    .dataframe tbody tr th:only-of-type {\n",
              "        vertical-align: middle;\n",
              "    }\n",
              "\n",
              "    .dataframe tbody tr th {\n",
              "        vertical-align: top;\n",
              "    }\n",
              "\n",
              "    .dataframe thead th {\n",
              "        text-align: right;\n",
              "    }\n",
              "</style>\n",
              "<table border=\"1\" class=\"dataframe\">\n",
              "  <thead>\n",
              "    <tr style=\"text-align: right;\">\n",
              "      <th></th>\n",
              "      <th>Month 4</th>\n",
              "    </tr>\n",
              "    <tr>\n",
              "      <th>index</th>\n",
              "      <th></th>\n",
              "    </tr>\n",
              "  </thead>\n",
              "  <tbody>\n",
              "    <tr>\n",
              "      <th>490548</th>\n",
              "      <td>11068.199278</td>\n",
              "    </tr>\n",
              "    <tr>\n",
              "      <th>1225156</th>\n",
              "      <td>4.306109</td>\n",
              "    </tr>\n",
              "    <tr>\n",
              "      <th>756797</th>\n",
              "      <td>4.306109</td>\n",
              "    </tr>\n",
              "    <tr>\n",
              "      <th>752249</th>\n",
              "      <td>4.306109</td>\n",
              "    </tr>\n",
              "    <tr>\n",
              "      <th>1745310</th>\n",
              "      <td>4.306109</td>\n",
              "    </tr>\n",
              "    <tr>\n",
              "      <th>...</th>\n",
              "      <td>...</td>\n",
              "    </tr>\n",
              "    <tr>\n",
              "      <th>281667</th>\n",
              "      <td>4.306109</td>\n",
              "    </tr>\n",
              "    <tr>\n",
              "      <th>1015964</th>\n",
              "      <td>4.306109</td>\n",
              "    </tr>\n",
              "    <tr>\n",
              "      <th>772027</th>\n",
              "      <td>4.306109</td>\n",
              "    </tr>\n",
              "    <tr>\n",
              "      <th>534938</th>\n",
              "      <td>4.306109</td>\n",
              "    </tr>\n",
              "    <tr>\n",
              "      <th>2004784</th>\n",
              "      <td>4.306109</td>\n",
              "    </tr>\n",
              "  </tbody>\n",
              "</table>\n",
              "<p>440743 rows × 1 columns</p>\n",
              "</div>"
            ],
            "text/plain": [
              "              Month 4\n",
              "index                \n",
              "490548   11068.199278\n",
              "1225156      4.306109\n",
              "756797       4.306109\n",
              "752249       4.306109\n",
              "1745310      4.306109\n",
              "...               ...\n",
              "281667       4.306109\n",
              "1015964      4.306109\n",
              "772027       4.306109\n",
              "534938       4.306109\n",
              "2004784      4.306109\n",
              "\n",
              "[440743 rows x 1 columns]"
            ]
          },
          "execution_count": 22,
          "metadata": {},
          "output_type": "execute_result"
        }
      ],
      "source": [
        "y_test = pd.DataFrame(y_test_pred, columns=['Month 4'], index=X_test_utilise.index.copy())\n",
        "y_test"
      ]
    },
    {
      "cell_type": "code",
      "execution_count": null,
      "metadata": {
        "id": "O0zGZziWIRz_"
      },
      "outputs": [],
      "source": [
        "y_test.to_csv('preprocessed_datasets/y_test.csv', sep=';')"
      ]
    },
    {
      "cell_type": "code",
      "execution_count": null,
      "metadata": {
        "id": "4KRT518NIRz_"
      },
      "outputs": [],
      "source": []
    }
  ],
  "metadata": {
    "kernelspec": {
      "display_name": "base",
      "language": "python",
      "name": "python3"
    },
    "language_info": {
      "codemirror_mode": {
        "name": "ipython",
        "version": 3
      },
      "file_extension": ".py",
      "mimetype": "text/x-python",
      "name": "python",
      "nbconvert_exporter": "python",
      "pygments_lexer": "ipython3",
      "version": "3.11.5"
    },
    "colab": {
      "provenance": []
    }
  },
  "nbformat": 4,
  "nbformat_minor": 0
}